{
 "cells": [
  {
   "cell_type": "markdown",
   "metadata": {
    "id": "CcUT6Fon_qRE"
   },
   "source": [
    "### Required Assignment 5.1: Will the Customer Accept the Coupon?\n",
    "\n",
    "**Context**\n",
    "\n",
    "Imagine driving through town and a coupon is delivered to your cell phone for a restaurant near where you are driving. Would you accept that coupon and take a short detour to the restaurant? Would you accept the coupon but use it on a subsequent trip? Would you ignore the coupon entirely? What if the coupon was for a bar instead of a restaurant? What about a coffee house? Would you accept a bar coupon with a minor passenger in the car? What about if it was just you and your partner in the car? Would weather impact the rate of acceptance? What about the time of day?\n",
    "\n",
    "Obviously, proximity to the business is a factor on whether the coupon is delivered to the driver or not, but what are the factors that determine whether a driver accepts the coupon once it is delivered to them? How would you determine whether a driver is likely to accept a coupon?\n",
    "\n",
    "**Overview**\n",
    "\n",
    "The goal of this project is to use what you know about visualizations and probability distributions to distinguish between customers who accepted a driving coupon versus those that did not.\n",
    "\n",
    "**Data**\n",
    "\n",
    "This data comes to us from the UCI Machine Learning repository and was collected via a survey on Amazon Mechanical Turk. The survey describes different driving scenarios including the destination, current time, weather, passenger, etc., and then ask the person whether he will accept the coupon if he is the driver. Answers that the user will drive there ‘right away’ or ‘later before the coupon expires’ are labeled as ‘Y = 1’ and answers ‘no, I do not want the coupon’ are labeled as ‘Y = 0’.  There are five different types of coupons -- less expensive restaurants (under \\$20), coffee houses, carry out & take away, bar, and more expensive restaurants (\\$20 - $50)."
   ]
  },
  {
   "cell_type": "markdown",
   "metadata": {
    "id": "1wORvMBJ_qRF"
   },
   "source": [
    "**Deliverables**\n",
    "\n",
    "Your final product should be a brief report that highlights the differences between customers who did and did not accept the coupons.  To explore the data you will utilize your knowledge of plotting, statistical summaries, and visualization using Python. You will publish your findings in a public facing github repository as your first portfolio piece.\n",
    "\n",
    "\n",
    "\n"
   ]
  },
  {
   "cell_type": "markdown",
   "metadata": {
    "id": "pG6_Ym6q_qRG"
   },
   "source": [
    "### Data Description\n",
    "Keep in mind that these values mentioned below are average values.\n",
    "\n",
    "The attributes of this data set include:\n",
    "1. User attributes\n",
    "    -  Gender: male, female\n",
    "    -  Age: below 21, 21 to 25, 26 to 30, etc.\n",
    "    -  Marital Status: single, married partner, unmarried partner, or widowed\n",
    "    -  Number of children: 0, 1, or more than 1\n",
    "    -  Education: high school, bachelors degree, associates degree, or graduate degree\n",
    "    -  Occupation: architecture & engineering, business & financial, etc.\n",
    "    -  Annual income: less than \\\\$12500, \\\\$12500 - \\\\$24999, \\\\$25000 - \\\\$37499, etc.\n",
    "    -  Number of times that he/she goes to a bar: 0, less than 1, 1 to 3, 4 to 8 or greater than 8\n",
    "    -  Number of times that he/she buys takeaway food: 0, less than 1, 1 to 3, 4 to 8 or greater\n",
    "    than 8\n",
    "    -  Number of times that he/she goes to a coffee house: 0, less than 1, 1 to 3, 4 to 8 or\n",
    "    greater than 8\n",
    "    -  Number of times that he/she eats at a restaurant with average expense less than \\\\$20 per\n",
    "    person: 0, less than 1, 1 to 3, 4 to 8 or greater than 8\n",
    "    -  Number of times that he/she goes to a bar: 0, less than 1, 1 to 3, 4 to 8 or greater than 8\n",
    "    \n",
    "\n",
    "2. Contextual attributes\n",
    "    - Driving destination: home, work, or no urgent destination\n",
    "    - Location of user, coupon and destination: we provide a map to show the geographical\n",
    "    location of the user, destination, and the venue, and we mark the distance between each\n",
    "    two places with time of driving. The user can see whether the venue is in the same\n",
    "    direction as the destination.\n",
    "    - Weather: sunny, rainy, or snowy\n",
    "    - Temperature: 30F, 55F, or 80F\n",
    "    - Time: 10AM, 2PM, or 6PM\n",
    "    - Passenger: alone, partner, kid(s), or friend(s)\n",
    "\n",
    "\n",
    "3. Coupon attributes\n",
    "    - time before it expires: 2 hours or one day"
   ]
  },
  {
   "cell_type": "code",
   "execution_count": 64,
   "metadata": {
    "id": "dzNoP3o__qRG"
   },
   "outputs": [],
   "source": [
    "import matplotlib.pyplot as plt\n",
    "import seaborn as sns\n",
    "import pandas as pd\n",
    "import numpy as np"
   ]
  },
  {
   "cell_type": "markdown",
   "metadata": {
    "id": "Ct8pI1uE_qRG"
   },
   "source": [
    "### Problems\n",
    "\n",
    "Use the prompts below to get started with your data analysis.  \n",
    "\n",
    "1. Read in the `coupons.csv` file.\n",
    "\n",
    "\n"
   ]
  },
  {
   "cell_type": "code",
   "execution_count": 67,
   "metadata": {
    "id": "X0vbffYg_qRH"
   },
   "outputs": [],
   "source": [
    "data = pd.read_csv('data/coupons.csv')"
   ]
  },
  {
   "cell_type": "code",
   "execution_count": 69,
   "metadata": {
    "id": "TXofQ_DF_qRH",
    "outputId": "2fc96a2c-1112-4b54-f24f-dbb9bc88abfb"
   },
   "outputs": [
    {
     "data": {
      "text/html": [
       "<div>\n",
       "<style scoped>\n",
       "    .dataframe tbody tr th:only-of-type {\n",
       "        vertical-align: middle;\n",
       "    }\n",
       "\n",
       "    .dataframe tbody tr th {\n",
       "        vertical-align: top;\n",
       "    }\n",
       "\n",
       "    .dataframe thead th {\n",
       "        text-align: right;\n",
       "    }\n",
       "</style>\n",
       "<table border=\"1\" class=\"dataframe\">\n",
       "  <thead>\n",
       "    <tr style=\"text-align: right;\">\n",
       "      <th></th>\n",
       "      <th>destination</th>\n",
       "      <th>passanger</th>\n",
       "      <th>weather</th>\n",
       "      <th>temperature</th>\n",
       "      <th>time</th>\n",
       "      <th>coupon</th>\n",
       "      <th>expiration</th>\n",
       "      <th>gender</th>\n",
       "      <th>age</th>\n",
       "      <th>maritalStatus</th>\n",
       "      <th>...</th>\n",
       "      <th>CoffeeHouse</th>\n",
       "      <th>CarryAway</th>\n",
       "      <th>RestaurantLessThan20</th>\n",
       "      <th>Restaurant20To50</th>\n",
       "      <th>toCoupon_GEQ5min</th>\n",
       "      <th>toCoupon_GEQ15min</th>\n",
       "      <th>toCoupon_GEQ25min</th>\n",
       "      <th>direction_same</th>\n",
       "      <th>direction_opp</th>\n",
       "      <th>Y</th>\n",
       "    </tr>\n",
       "  </thead>\n",
       "  <tbody>\n",
       "    <tr>\n",
       "      <th>0</th>\n",
       "      <td>No Urgent Place</td>\n",
       "      <td>Alone</td>\n",
       "      <td>Sunny</td>\n",
       "      <td>55</td>\n",
       "      <td>2PM</td>\n",
       "      <td>Restaurant(&lt;20)</td>\n",
       "      <td>1d</td>\n",
       "      <td>Female</td>\n",
       "      <td>21</td>\n",
       "      <td>Unmarried partner</td>\n",
       "      <td>...</td>\n",
       "      <td>never</td>\n",
       "      <td>NaN</td>\n",
       "      <td>4~8</td>\n",
       "      <td>1~3</td>\n",
       "      <td>1</td>\n",
       "      <td>0</td>\n",
       "      <td>0</td>\n",
       "      <td>0</td>\n",
       "      <td>1</td>\n",
       "      <td>1</td>\n",
       "    </tr>\n",
       "    <tr>\n",
       "      <th>1</th>\n",
       "      <td>No Urgent Place</td>\n",
       "      <td>Friend(s)</td>\n",
       "      <td>Sunny</td>\n",
       "      <td>80</td>\n",
       "      <td>10AM</td>\n",
       "      <td>Coffee House</td>\n",
       "      <td>2h</td>\n",
       "      <td>Female</td>\n",
       "      <td>21</td>\n",
       "      <td>Unmarried partner</td>\n",
       "      <td>...</td>\n",
       "      <td>never</td>\n",
       "      <td>NaN</td>\n",
       "      <td>4~8</td>\n",
       "      <td>1~3</td>\n",
       "      <td>1</td>\n",
       "      <td>0</td>\n",
       "      <td>0</td>\n",
       "      <td>0</td>\n",
       "      <td>1</td>\n",
       "      <td>0</td>\n",
       "    </tr>\n",
       "    <tr>\n",
       "      <th>2</th>\n",
       "      <td>No Urgent Place</td>\n",
       "      <td>Friend(s)</td>\n",
       "      <td>Sunny</td>\n",
       "      <td>80</td>\n",
       "      <td>10AM</td>\n",
       "      <td>Carry out &amp; Take away</td>\n",
       "      <td>2h</td>\n",
       "      <td>Female</td>\n",
       "      <td>21</td>\n",
       "      <td>Unmarried partner</td>\n",
       "      <td>...</td>\n",
       "      <td>never</td>\n",
       "      <td>NaN</td>\n",
       "      <td>4~8</td>\n",
       "      <td>1~3</td>\n",
       "      <td>1</td>\n",
       "      <td>1</td>\n",
       "      <td>0</td>\n",
       "      <td>0</td>\n",
       "      <td>1</td>\n",
       "      <td>1</td>\n",
       "    </tr>\n",
       "    <tr>\n",
       "      <th>3</th>\n",
       "      <td>No Urgent Place</td>\n",
       "      <td>Friend(s)</td>\n",
       "      <td>Sunny</td>\n",
       "      <td>80</td>\n",
       "      <td>2PM</td>\n",
       "      <td>Coffee House</td>\n",
       "      <td>2h</td>\n",
       "      <td>Female</td>\n",
       "      <td>21</td>\n",
       "      <td>Unmarried partner</td>\n",
       "      <td>...</td>\n",
       "      <td>never</td>\n",
       "      <td>NaN</td>\n",
       "      <td>4~8</td>\n",
       "      <td>1~3</td>\n",
       "      <td>1</td>\n",
       "      <td>1</td>\n",
       "      <td>0</td>\n",
       "      <td>0</td>\n",
       "      <td>1</td>\n",
       "      <td>0</td>\n",
       "    </tr>\n",
       "    <tr>\n",
       "      <th>4</th>\n",
       "      <td>No Urgent Place</td>\n",
       "      <td>Friend(s)</td>\n",
       "      <td>Sunny</td>\n",
       "      <td>80</td>\n",
       "      <td>2PM</td>\n",
       "      <td>Coffee House</td>\n",
       "      <td>1d</td>\n",
       "      <td>Female</td>\n",
       "      <td>21</td>\n",
       "      <td>Unmarried partner</td>\n",
       "      <td>...</td>\n",
       "      <td>never</td>\n",
       "      <td>NaN</td>\n",
       "      <td>4~8</td>\n",
       "      <td>1~3</td>\n",
       "      <td>1</td>\n",
       "      <td>1</td>\n",
       "      <td>0</td>\n",
       "      <td>0</td>\n",
       "      <td>1</td>\n",
       "      <td>0</td>\n",
       "    </tr>\n",
       "  </tbody>\n",
       "</table>\n",
       "<p>5 rows × 26 columns</p>\n",
       "</div>"
      ],
      "text/plain": [
       "       destination  passanger weather  temperature  time  \\\n",
       "0  No Urgent Place      Alone   Sunny           55   2PM   \n",
       "1  No Urgent Place  Friend(s)   Sunny           80  10AM   \n",
       "2  No Urgent Place  Friend(s)   Sunny           80  10AM   \n",
       "3  No Urgent Place  Friend(s)   Sunny           80   2PM   \n",
       "4  No Urgent Place  Friend(s)   Sunny           80   2PM   \n",
       "\n",
       "                  coupon expiration  gender age      maritalStatus  ...  \\\n",
       "0        Restaurant(<20)         1d  Female  21  Unmarried partner  ...   \n",
       "1           Coffee House         2h  Female  21  Unmarried partner  ...   \n",
       "2  Carry out & Take away         2h  Female  21  Unmarried partner  ...   \n",
       "3           Coffee House         2h  Female  21  Unmarried partner  ...   \n",
       "4           Coffee House         1d  Female  21  Unmarried partner  ...   \n",
       "\n",
       "   CoffeeHouse CarryAway RestaurantLessThan20 Restaurant20To50  \\\n",
       "0        never       NaN                  4~8              1~3   \n",
       "1        never       NaN                  4~8              1~3   \n",
       "2        never       NaN                  4~8              1~3   \n",
       "3        never       NaN                  4~8              1~3   \n",
       "4        never       NaN                  4~8              1~3   \n",
       "\n",
       "  toCoupon_GEQ5min toCoupon_GEQ15min toCoupon_GEQ25min direction_same  \\\n",
       "0                1                 0                 0              0   \n",
       "1                1                 0                 0              0   \n",
       "2                1                 1                 0              0   \n",
       "3                1                 1                 0              0   \n",
       "4                1                 1                 0              0   \n",
       "\n",
       "  direction_opp  Y  \n",
       "0             1  1  \n",
       "1             1  0  \n",
       "2             1  1  \n",
       "3             1  0  \n",
       "4             1  0  \n",
       "\n",
       "[5 rows x 26 columns]"
      ]
     },
     "execution_count": 69,
     "metadata": {},
     "output_type": "execute_result"
    }
   ],
   "source": [
    "data.head()"
   ]
  },
  {
   "cell_type": "markdown",
   "metadata": {
    "id": "GcDs78ZH_qRH"
   },
   "source": [
    "2. Investigate the dataset for missing or problematic data."
   ]
  },
  {
   "cell_type": "code",
   "execution_count": 72,
   "metadata": {
    "id": "6CwL6oWj_qRH"
   },
   "outputs": [
    {
     "name": "stdout",
     "output_type": "stream",
     "text": [
      "Total Data size (12684, 26)\n",
      "Columns with NaN values Index(['car', 'Bar', 'CoffeeHouse', 'CarryAway', 'RestaurantLessThan20',\n",
      "       'Restaurant20To50'],\n",
      "      dtype='object')\n",
      "Number of Rows with at least one NaN 12576\n",
      "destination             object\n",
      "passanger               object\n",
      "weather                 object\n",
      "temperature              int64\n",
      "time                    object\n",
      "coupon                  object\n",
      "expiration              object\n",
      "gender                  object\n",
      "age                     object\n",
      "maritalStatus           object\n",
      "has_children             int64\n",
      "education               object\n",
      "occupation              object\n",
      "income                  object\n",
      "car                     object\n",
      "Bar                     object\n",
      "CoffeeHouse             object\n",
      "CarryAway               object\n",
      "RestaurantLessThan20    object\n",
      "Restaurant20To50        object\n",
      "toCoupon_GEQ5min         int64\n",
      "toCoupon_GEQ15min        int64\n",
      "toCoupon_GEQ25min        int64\n",
      "direction_same           int64\n",
      "direction_opp            int64\n",
      "Y                        int64\n",
      "dtype: object\n"
     ]
    }
   ],
   "source": [
    "#Print the dataset size\n",
    "print(\"Total Data size\",data.shape)\n",
    "\n",
    "# Find columns with NaN values\n",
    "columns_with_nan = data.columns[data.isnull().any()]\n",
    "print(\"Columns with NaN values\", columns_with_nan)\n",
    "\n",
    "# Count the number of rows with at least one NaN value\n",
    "num_rows_with_nan = data.isnull().any(axis=1).sum()\n",
    "print(\"Number of Rows with at least one NaN\",num_rows_with_nan)\n",
    "\n",
    "# Print the data types for each columns\n",
    "print(data.dtypes)"
   ]
  },
  {
   "cell_type": "markdown",
   "metadata": {
    "id": "bSdVSpYB_qRH"
   },
   "source": [
    "3. Decide what to do about your missing data -- drop, replace, other..."
   ]
  },
  {
   "cell_type": "code",
   "execution_count": 75,
   "metadata": {
    "id": "tyvoAC5F_qRI"
   },
   "outputs": [
    {
     "name": "stdout",
     "output_type": "stream",
     "text": [
      "Number of Rows with at least one NaN in Raw data 12576\n",
      "Number of Rows with at least one NaN after setting unknown 386\n",
      "Number of Rows with at least one NaN for clean data 0\n",
      "Size of data_cleaned (12298, 26)\n"
     ]
    },
    {
     "data": {
      "text/html": [
       "<div>\n",
       "<style scoped>\n",
       "    .dataframe tbody tr th:only-of-type {\n",
       "        vertical-align: middle;\n",
       "    }\n",
       "\n",
       "    .dataframe tbody tr th {\n",
       "        vertical-align: top;\n",
       "    }\n",
       "\n",
       "    .dataframe thead th {\n",
       "        text-align: right;\n",
       "    }\n",
       "</style>\n",
       "<table border=\"1\" class=\"dataframe\">\n",
       "  <thead>\n",
       "    <tr style=\"text-align: right;\">\n",
       "      <th></th>\n",
       "      <th>destination</th>\n",
       "      <th>passanger</th>\n",
       "      <th>weather</th>\n",
       "      <th>temperature</th>\n",
       "      <th>time</th>\n",
       "      <th>coupon</th>\n",
       "      <th>expiration</th>\n",
       "      <th>gender</th>\n",
       "      <th>age</th>\n",
       "      <th>maritalStatus</th>\n",
       "      <th>...</th>\n",
       "      <th>CoffeeHouse</th>\n",
       "      <th>CarryAway</th>\n",
       "      <th>RestaurantLessThan20</th>\n",
       "      <th>Restaurant20To50</th>\n",
       "      <th>toCoupon_GEQ5min</th>\n",
       "      <th>toCoupon_GEQ15min</th>\n",
       "      <th>toCoupon_GEQ25min</th>\n",
       "      <th>direction_same</th>\n",
       "      <th>direction_opp</th>\n",
       "      <th>Y</th>\n",
       "    </tr>\n",
       "  </thead>\n",
       "  <tbody>\n",
       "    <tr>\n",
       "      <th>22</th>\n",
       "      <td>No Urgent Place</td>\n",
       "      <td>Alone</td>\n",
       "      <td>Sunny</td>\n",
       "      <td>55</td>\n",
       "      <td>2PM</td>\n",
       "      <td>Restaurant(&lt;20)</td>\n",
       "      <td>1d</td>\n",
       "      <td>Male</td>\n",
       "      <td>21</td>\n",
       "      <td>Single</td>\n",
       "      <td>...</td>\n",
       "      <td>less1</td>\n",
       "      <td>4~8</td>\n",
       "      <td>4~8</td>\n",
       "      <td>less1</td>\n",
       "      <td>1</td>\n",
       "      <td>0</td>\n",
       "      <td>0</td>\n",
       "      <td>0</td>\n",
       "      <td>1</td>\n",
       "      <td>1</td>\n",
       "    </tr>\n",
       "    <tr>\n",
       "      <th>23</th>\n",
       "      <td>No Urgent Place</td>\n",
       "      <td>Friend(s)</td>\n",
       "      <td>Sunny</td>\n",
       "      <td>80</td>\n",
       "      <td>10AM</td>\n",
       "      <td>Coffee House</td>\n",
       "      <td>2h</td>\n",
       "      <td>Male</td>\n",
       "      <td>21</td>\n",
       "      <td>Single</td>\n",
       "      <td>...</td>\n",
       "      <td>less1</td>\n",
       "      <td>4~8</td>\n",
       "      <td>4~8</td>\n",
       "      <td>less1</td>\n",
       "      <td>1</td>\n",
       "      <td>0</td>\n",
       "      <td>0</td>\n",
       "      <td>0</td>\n",
       "      <td>1</td>\n",
       "      <td>0</td>\n",
       "    </tr>\n",
       "    <tr>\n",
       "      <th>24</th>\n",
       "      <td>No Urgent Place</td>\n",
       "      <td>Friend(s)</td>\n",
       "      <td>Sunny</td>\n",
       "      <td>80</td>\n",
       "      <td>10AM</td>\n",
       "      <td>Bar</td>\n",
       "      <td>1d</td>\n",
       "      <td>Male</td>\n",
       "      <td>21</td>\n",
       "      <td>Single</td>\n",
       "      <td>...</td>\n",
       "      <td>less1</td>\n",
       "      <td>4~8</td>\n",
       "      <td>4~8</td>\n",
       "      <td>less1</td>\n",
       "      <td>1</td>\n",
       "      <td>0</td>\n",
       "      <td>0</td>\n",
       "      <td>0</td>\n",
       "      <td>1</td>\n",
       "      <td>1</td>\n",
       "    </tr>\n",
       "    <tr>\n",
       "      <th>25</th>\n",
       "      <td>No Urgent Place</td>\n",
       "      <td>Friend(s)</td>\n",
       "      <td>Sunny</td>\n",
       "      <td>80</td>\n",
       "      <td>10AM</td>\n",
       "      <td>Carry out &amp; Take away</td>\n",
       "      <td>2h</td>\n",
       "      <td>Male</td>\n",
       "      <td>21</td>\n",
       "      <td>Single</td>\n",
       "      <td>...</td>\n",
       "      <td>less1</td>\n",
       "      <td>4~8</td>\n",
       "      <td>4~8</td>\n",
       "      <td>less1</td>\n",
       "      <td>1</td>\n",
       "      <td>1</td>\n",
       "      <td>0</td>\n",
       "      <td>0</td>\n",
       "      <td>1</td>\n",
       "      <td>0</td>\n",
       "    </tr>\n",
       "    <tr>\n",
       "      <th>26</th>\n",
       "      <td>No Urgent Place</td>\n",
       "      <td>Friend(s)</td>\n",
       "      <td>Sunny</td>\n",
       "      <td>80</td>\n",
       "      <td>2PM</td>\n",
       "      <td>Coffee House</td>\n",
       "      <td>1d</td>\n",
       "      <td>Male</td>\n",
       "      <td>21</td>\n",
       "      <td>Single</td>\n",
       "      <td>...</td>\n",
       "      <td>less1</td>\n",
       "      <td>4~8</td>\n",
       "      <td>4~8</td>\n",
       "      <td>less1</td>\n",
       "      <td>1</td>\n",
       "      <td>0</td>\n",
       "      <td>0</td>\n",
       "      <td>0</td>\n",
       "      <td>1</td>\n",
       "      <td>0</td>\n",
       "    </tr>\n",
       "  </tbody>\n",
       "</table>\n",
       "<p>5 rows × 26 columns</p>\n",
       "</div>"
      ],
      "text/plain": [
       "        destination  passanger weather  temperature  time  \\\n",
       "22  No Urgent Place      Alone   Sunny           55   2PM   \n",
       "23  No Urgent Place  Friend(s)   Sunny           80  10AM   \n",
       "24  No Urgent Place  Friend(s)   Sunny           80  10AM   \n",
       "25  No Urgent Place  Friend(s)   Sunny           80  10AM   \n",
       "26  No Urgent Place  Friend(s)   Sunny           80   2PM   \n",
       "\n",
       "                   coupon expiration gender age maritalStatus  ...  \\\n",
       "22        Restaurant(<20)         1d   Male  21        Single  ...   \n",
       "23           Coffee House         2h   Male  21        Single  ...   \n",
       "24                    Bar         1d   Male  21        Single  ...   \n",
       "25  Carry out & Take away         2h   Male  21        Single  ...   \n",
       "26           Coffee House         1d   Male  21        Single  ...   \n",
       "\n",
       "    CoffeeHouse CarryAway RestaurantLessThan20 Restaurant20To50  \\\n",
       "22        less1       4~8                  4~8            less1   \n",
       "23        less1       4~8                  4~8            less1   \n",
       "24        less1       4~8                  4~8            less1   \n",
       "25        less1       4~8                  4~8            less1   \n",
       "26        less1       4~8                  4~8            less1   \n",
       "\n",
       "   toCoupon_GEQ5min toCoupon_GEQ15min toCoupon_GEQ25min direction_same  \\\n",
       "22                1                 0                 0              0   \n",
       "23                1                 0                 0              0   \n",
       "24                1                 0                 0              0   \n",
       "25                1                 1                 0              0   \n",
       "26                1                 0                 0              0   \n",
       "\n",
       "   direction_opp  Y  \n",
       "22             1  1  \n",
       "23             1  0  \n",
       "24             1  1  \n",
       "25             1  0  \n",
       "26             1  0  \n",
       "\n",
       "[5 rows x 26 columns]"
      ]
     },
     "execution_count": 75,
     "metadata": {},
     "output_type": "execute_result"
    }
   ],
   "source": [
    "# Count the number of rows with at least one NaN value\n",
    "num_rows_with_nan = data.isnull().any(axis=1).sum()\n",
    "print(\"Number of Rows with at least one NaN in Raw data\",num_rows_with_nan)\n",
    "\n",
    "# Since number of rows with NaN is 12576 out of total rows of 12684, we cannot delete all rows with NaN. \n",
    "# Replace \"car, Bar, CoffeeHouse\" column NaN to \"unknown\"\n",
    "data['car'] = data['car'].fillna(\"unknown\")\n",
    "data['Bar'] = data['Bar'].fillna(\"unknown\")\n",
    "data['CoffeeHouse'] = data['CoffeeHouse'].fillna(\"unknown\")\n",
    "\n",
    "# Count the number of rows with at least one NaN value\n",
    "num_rows_with_nan = data.isnull().any(axis=1).sum()\n",
    "print(\"Number of Rows with at least one NaN after setting unknown\",num_rows_with_nan)\n",
    "\n",
    "# Now with 386 rows, we cand delete these number of rows from the data for these columns ['CarryAway', 'RestaurantLessThan20','Restaurant20To50']\n",
    "data_cleaned = data.dropna(subset=['CarryAway', 'RestaurantLessThan20', 'Restaurant20To50'])\n",
    "\n",
    "# Count the number of rows with at least one NaN value\n",
    "num_rows_with_nan_data_cleaned = data_cleaned.isnull().any(axis=1).sum()\n",
    "print(\"Number of Rows with at least one NaN for clean data\",num_rows_with_nan_data_cleaned)\n",
    "\n",
    "# Print the head of data_cleaned and shape\n",
    "print(\"Size of data_cleaned\",data_cleaned.shape)\n",
    "data_cleaned.head()"
   ]
  },
  {
   "cell_type": "markdown",
   "metadata": {
    "id": "YE6oJbXd_qRI"
   },
   "source": [
    "4. What proportion of the total observations chose to accept the coupon?\n",
    "\n"
   ]
  },
  {
   "cell_type": "code",
   "execution_count": 78,
   "metadata": {
    "id": "86GGqBTv_qRI"
   },
   "outputs": [
    {
     "name": "stdout",
     "output_type": "stream",
     "text": [
      "Proportional of observations that choose to accept the coupon 0.5670027646771832\n"
     ]
    }
   ],
   "source": [
    "# Proportion of observation to accept the coupon\n",
    "\n",
    "proportion_accept = data_cleaned['Y'].sum()/len(data_cleaned)\n",
    "print(\"Proportional of observations that choose to accept the coupon\",proportion_accept)"
   ]
  },
  {
   "cell_type": "markdown",
   "metadata": {
    "id": "vflz0DoE_qRI"
   },
   "source": [
    "5. Use a bar plot to visualize the `coupon` column."
   ]
  },
  {
   "cell_type": "code",
   "execution_count": 81,
   "metadata": {
    "id": "dHFh3E45_qRI"
   },
   "outputs": [
    {
     "data": {
      "image/png": "[encoded data removed]",
      "text/plain": [
       "<Figure size 640x480 with 1 Axes>"
      ]
     },
     "metadata": {},
     "output_type": "display_data"
    }
   ],
   "source": [
    "# Count the occurrences of each coupon\n",
    "coupon_counts = data_cleaned['coupon'].value_counts()\n",
    "\n",
    "# Create a bar plot\n",
    "sns.barplot(x=coupon_counts.index, y=coupon_counts.values)\n",
    "\n",
    "# Set titles and labels\n",
    "plt.title('Distribution of Coupons')\n",
    "plt.ylabel('Count')\n",
    "\n",
    "# Show plot\n",
    "plt.xticks(rotation=45)  # Rotate x labels for better readability\n",
    "plt.show()"
   ]
  },
  {
   "cell_type": "markdown",
   "metadata": {
    "id": "Qw4lCyx2_qRI"
   },
   "source": [
    "6. Use a histogram to visualize the temperature column."
   ]
  },
  {
   "cell_type": "code",
   "execution_count": 84,
   "metadata": {
    "id": "Yg9Anv71_qRI"
   },
   "outputs": [
    {
     "data": {
      "image/png": "[encoded data removed]",
      "text/plain": [
       "<Figure size 640x480 with 1 Axes>"
      ]
     },
     "metadata": {},
     "output_type": "display_data"
    }
   ],
   "source": [
    "\n",
    "sns.countplot(data=data_cleaned, x='temperature', color='skyblue')\n",
    "\n",
    "# Set titles and labels for Seaborn\n",
    "plt.title('Histogram of Temperature')\n",
    "plt.xlabel('Temperature (°F)')\n",
    "plt.ylabel('Frequency')\n",
    "\n",
    "# Show plot\n",
    "plt.tight_layout()  # Adjust layout to prevent clipping\n",
    "plt.show()\n"
   ]
  },
  {
   "cell_type": "code",
   "execution_count": null,
   "metadata": {
    "id": "zLtOaJQk_qRI"
   },
   "outputs": [],
   "source": []
  },
  {
   "cell_type": "code",
   "execution_count": null,
   "metadata": {
    "id": "7GBHZKBp_qRJ"
   },
   "outputs": [],
   "source": []
  },
  {
   "cell_type": "code",
   "execution_count": null,
   "metadata": {
    "id": "Y5nBUA-j_qRJ"
   },
   "outputs": [],
   "source": []
  },
  {
   "cell_type": "code",
   "execution_count": null,
   "metadata": {
    "id": "ShcUC-Vm_qRJ"
   },
   "outputs": [],
   "source": []
  },
  {
   "cell_type": "markdown",
   "metadata": {
    "id": "FupfgeJk_qRJ"
   },
   "source": [
    "**Investigating the Bar Coupons**\n",
    "\n",
    "Now, we will lead you through an exploration of just the bar related coupons.  \n",
    "\n",
    "1. Create a new `DataFrame` that contains just the bar coupons.\n"
   ]
  },
  {
   "cell_type": "code",
   "execution_count": 91,
   "metadata": {
    "id": "tMBlWuGq_qRJ"
   },
   "outputs": [
    {
     "name": "stdout",
     "output_type": "stream",
     "text": [
      "Number of rows with Bar coupons 1952\n"
     ]
    }
   ],
   "source": [
    "# New dataframe with only Bar coupons\n",
    "\n",
    "data_bar = data_cleaned[data_cleaned['coupon']=='Bar']\n",
    "print(\"Number of rows with Bar coupons\", len(data_bar))\n"
   ]
  },
  {
   "cell_type": "markdown",
   "metadata": {
    "id": "8ue6uCqf_qRJ"
   },
   "source": [
    "2. What proportion of bar coupons were accepted?\n"
   ]
  },
  {
   "cell_type": "code",
   "execution_count": 94,
   "metadata": {
    "id": "hSdte8Mi_qRK"
   },
   "outputs": [
    {
     "name": "stdout",
     "output_type": "stream",
     "text": [
      "Proportional of observations that choose to accept the 'Bar' coupon 0.4082991803278688\n"
     ]
    }
   ],
   "source": [
    "# Proportion of observation to accept the \"Bar\" coupon \n",
    "\n",
    "proportion_accept_Bar = data_bar['Y'].sum()/len(data_bar)  # or using .mean()\n",
    "print(\"Proportional of observations that choose to accept the 'Bar' coupon\",proportion_accept_Bar)"
   ]
  },
  {
   "cell_type": "markdown",
   "metadata": {
    "id": "85nA_iEi_qRK"
   },
   "source": [
    "3. Compare the acceptance rate between those who went to a bar 3 or fewer times a month to those who went more.\n"
   ]
  },
  {
   "cell_type": "code",
   "execution_count": 97,
   "metadata": {
    "id": "LBOrN-XM_qRK"
   },
   "outputs": [
    {
     "name": "stdout",
     "output_type": "stream",
     "text": [
      "Number of Rows with 'unknown' value  12\n",
      "         Visit_Group         Y  acceptance_rate %\n",
      "0   3 or fewer times  0.369266          36.926606\n",
      "1  more than 3 times  0.765306          76.530612\n"
     ]
    },
    {
     "data": {
      "image/png": "[encoded data removed]",
      "text/plain": [
       "<Figure size 800x500 with 1 Axes>"
      ]
     },
     "metadata": {},
     "output_type": "display_data"
    }
   ],
   "source": [
    "data_bar_frequency = data_bar[['Bar','Y']]\n",
    "\n",
    "print(\"Number of Rows with 'unknown' value \",data_bar_frequency[data_bar_frequency['Bar'] == 'unknown'].shape[0])\n",
    "\n",
    "# Removing the rows with 'unknown' value\n",
    "data_bar_frequency = data_bar_frequency[data_bar_frequency['Bar'] != 'unknown']\n",
    "\n",
    "# Categorize bar visits into two groups\n",
    "data_bar_frequency['Visit_Group'] = data_bar_frequency['Bar'].apply(\n",
    "    lambda x: '3 or fewer times' if x in ['never', 'less1', '1~3'] else 'more than 3 times'\n",
    ")\n",
    "\n",
    "# Calculate acceptance rates for each group\n",
    "acceptance_rates = data_bar_frequency.groupby('Visit_Group')['Y'].mean().reset_index()\n",
    "acceptance_rates['acceptance_rate %'] = acceptance_rates['Y'] * 100  # Convert to percentage\n",
    "\n",
    "# Print acceptance rates\n",
    "print(acceptance_rates)\n",
    "\n",
    "# Visualization\n",
    "plt.figure(figsize=(8, 5))\n",
    "plt.bar(acceptance_rates['Visit_Group'], acceptance_rates['acceptance_rate %'], color='skyblue')\n",
    "plt.title('Coupon Acceptance Rate by Bar Visit Frequency')\n",
    "plt.xlabel('Bar Visit Frequency Group')\n",
    "plt.ylabel('Acceptance Rate (%)')\n",
    "plt.ylim(0, 100)  # Set y-axis limits to percentage range\n",
    "plt.grid(axis='y', linestyle='--', alpha=0.7)\n",
    "plt.tight_layout()\n",
    "plt.show()\n"
   ]
  },
  {
   "cell_type": "markdown",
   "metadata": {
    "id": "RBgcQwH4_qRK"
   },
   "source": [
    "4. Compare the acceptance rate between drivers who go to a bar more than once a month and are over the age of 25 to the all others.  Is there a difference?\n"
   ]
  },
  {
   "cell_type": "code",
   "execution_count": 100,
   "metadata": {
    "id": "bf28bbeX_qRK"
   },
   "outputs": [
    {
     "name": "stdout",
     "output_type": "stream",
     "text": [
      "Acceptance Rate for Drivers > 25 and Go to Bar More than Once a Month: 0.69\n",
      "Acceptance Rate for All Other Drivers: 0.33\n",
      "Drivers who go to a bar more than once a month and are over 25 have a higher acceptance rate.\n"
     ]
    }
   ],
   "source": [
    "# Convert Age values\n",
    "def convert_age(age):\n",
    "    if age == 'below21':\n",
    "        return 19  # assign a value below 20\n",
    "    elif age == '50plus':\n",
    "        return 51  # assign a value above 50\n",
    "    else:\n",
    "        return int(age)  # convert to integer for numeric values\n",
    "        \n",
    "data_bar_acceptance_age = data_bar[['Bar','age','Y']]\n",
    "\n",
    "# Removing the rows with 'unknown' value\n",
    "data_bar_acceptance_age = data_bar_acceptance_age[data_bar_acceptance_age['Bar'] != 'unknown']\n",
    "\n",
    "# Convert 'Bar' values to categories for comparison\n",
    "data_bar_acceptance_age['Bar'] = data_bar_acceptance_age['Bar'].map({'never': 0, 'less1': 0, '1~3': 1, '4~8': 2, 'gt8': 3})\n",
    "\n",
    "# Add numeric age column\n",
    "data_bar_acceptance_age['Numeric_Age'] = data_bar_acceptance_age['age'].apply(convert_age)\n",
    "\n",
    "# Create a filter for drivers who go to a bar more than once a month and are over 25\n",
    "group_1 = data_bar_acceptance_age[(data_bar_acceptance_age['Bar'] >= 1) & (data_bar_acceptance_age['Numeric_Age'] > 25)]\n",
    "\n",
    "# Create a filter for all other drivers\n",
    "group_2 = data_bar_acceptance_age[~((data_bar_acceptance_age['Bar'] >= 1) & (data_bar_acceptance_age['Numeric_Age'] > 25))]\n",
    "\n",
    "# Calculate acceptance rates\n",
    "acceptance_rate_group_1 = group_1['Y'].mean()\n",
    "acceptance_rate_group_2 = group_2['Y'].mean()\n",
    "\n",
    "# Output the results\n",
    "print(f\"Acceptance Rate for Drivers > 25 and Go to Bar More than Once a Month: {acceptance_rate_group_1:.2f}\")\n",
    "print(f\"Acceptance Rate for All Other Drivers: {acceptance_rate_group_2:.2f}\")\n",
    "\n",
    "# Check for significant difference\n",
    "if acceptance_rate_group_1 > acceptance_rate_group_2:\n",
    "    print(\"Drivers who go to a bar more than once a month and are over 25 have a higher acceptance rate.\")\n",
    "else:\n",
    "    print(\"There is no significant difference in acceptance rates.\")\n"
   ]
  },
  {
   "cell_type": "markdown",
   "metadata": {
    "id": "S4RKT4PJ_qRK"
   },
   "source": [
    "5. Use the same process to compare the acceptance rate between drivers who go to bars more than once a month and had passengers that were not a kid and had occupations other than farming, fishing, or forestry.\n"
   ]
  },
  {
   "cell_type": "code",
   "execution_count": 103,
   "metadata": {
    "id": "sENaI2Tg_qRK"
   },
   "outputs": [
    {
     "name": "stdout",
     "output_type": "stream",
     "text": [
      "Acceptance Rate (more than once a month, not kids, not farming): 0.71\n",
      "Acceptance Rate (all others): 0.29\n"
     ]
    }
   ],
   "source": [
    "data_bar_passanger_occupation = data_bar[['passanger','occupation','Bar','Y']]\n",
    "\n",
    "# Removing the rows with 'unknown' value\n",
    "data_bar_passanger_occupation = data_bar_passanger_occupation[data_bar_passanger_occupation['Bar'] != 'unknown']\n",
    "\n",
    "# Step 1: Remove rows where Bar visits are more than once a month\n",
    "data_bar_passanger_occupation_condition = data_bar_passanger_occupation[data_bar_passanger_occupation['Bar'].isin(['1~3','4~8', 'gt8'])]\n",
    "\n",
    "# Step 2: Filter out rows with passengers that are not kids and occupations in farming, fishing & forestry\n",
    "data_bar_passanger_occupation_condition = data_bar_passanger_occupation_condition[~data_bar_passanger_occupation_condition['passanger'].str.contains('Kid')]\n",
    "data_bar_passanger_occupation_condition = data_bar_passanger_occupation_condition[data_bar_passanger_occupation_condition['occupation'] != 'Farming Fishing & Forestry']\n",
    "\n",
    "# Step 3: Calculate the acceptance rate\n",
    "acceptance_rate = data_bar_passanger_occupation_condition['Y'].mean()  # Assuming 'Y' is the column for coupon acceptance\n",
    "\n",
    "# Step 4: Calculate acceptance rate for the rest of the data\n",
    "other_data = data_bar_passanger_occupation[~data_bar_passanger_occupation.index.isin(data_bar_passanger_occupation_condition.index)]\n",
    "other_acceptance_rate = other_data['Y'].mean()\n",
    "# Step 5: Display results\n",
    "print(f'Acceptance Rate (more than once a month, not kids, not farming): {acceptance_rate:.2f}')\n",
    "print(f'Acceptance Rate (all others): {other_acceptance_rate:.2f}')"
   ]
  },
  {
   "cell_type": "markdown",
   "metadata": {
    "id": "n2LIUTil_qRK"
   },
   "source": [
    "6. Compare the acceptance rates between those drivers who:\n",
    "\n",
    "- go to bars more than once a month, had passengers that were not a kid, and were not widowed *OR*\n",
    "- go to bars more than once a month and are under the age of 30 *OR*\n",
    "- go to cheap restaurants more than 4 times a month and income is less than 50K.\n",
    "\n"
   ]
  },
  {
   "cell_type": "code",
   "execution_count": 106,
   "metadata": {
    "id": "aK_wEzx7_qRK"
   },
   "outputs": [
    {
     "name": "stdout",
     "output_type": "stream",
     "text": [
      "Acceptance Rate (Condition 1 - Bars > 1 month, Not a kid, Not widowed): 0.69\n",
      "Acceptance Rate (Condition 2 - Bars > 1 month and Age < 30): 0.72\n",
      "Acceptance Rate (Condition 3 - Restaurants > 4 times a month and Income < 50K): 0.45\n",
      "Combined Acceptance Rate (All Conditions): 0.57\n"
     ]
    }
   ],
   "source": [
    "# Convert Age values\n",
    "def convert_age(age):\n",
    "    if age == 'below21':\n",
    "        return 19  # assign a value below 20\n",
    "    elif age == '50plus':\n",
    "        return 51  # assign a value above 50\n",
    "    else:\n",
    "        return int(age)  # convert to integer for numeric values\n",
    "\n",
    "data_bar = data_bar.copy()\n",
    "\n",
    "# Add numeric age column\n",
    "data_bar['Numeric_Age'] = data_bar['age'].apply(convert_age)\n",
    "\n",
    "# Getting all the unique values of 'RestaurantLessThan20' columns\n",
    "#print(data_bar['RestaurantLessThan20'].unique())\n",
    "\n",
    "# Step 1: Filter based on the provided conditions\n",
    "\n",
    "# Condition 1: Go to bars more than once a month, have passengers that are not kids, and are not widowed\n",
    "condition1 = (data_bar['Bar'].isin(['1~3','4~8', 'gt8'])) & \\\n",
    "              (~data_bar['passanger'].str.contains('kid')) & \\\n",
    "              (data_bar['maritalStatus'] != 'Widowed')\n",
    "\n",
    "# Condition 2: Go to bars more than once a month and are under the age of 30\n",
    "condition2 = (data_bar['Bar'].isin(['1~3','4~8', 'gt8'])) & (data_bar['Numeric_Age'] < 30)\n",
    "\n",
    "# Condition 3: Go to cheap restaurants more than 4 times a month and income is less than 50K\n",
    "condition3 = (data_bar['RestaurantLessThan20'].isin(['4~8','gt8'])) & \\\n",
    "              (data_bar['income'].isin(['Less than $12500', '$12500 - $24999', '$25000 - $37499', '$37500 - $49999']))\n",
    "\n",
    "# Step 2: Calculate acceptance rates for each condition\n",
    "acceptance_rate_condition1 = data_bar[condition1]['Y'].mean()  # Assuming 'Y' is the column for coupon acceptance\n",
    "acceptance_rate_condition2 = data_bar[condition2]['Y'].mean()\n",
    "acceptance_rate_condition3 = data_bar[condition3]['Y'].mean()\n",
    "\n",
    "# Step 3: Calculate acceptance rate for the combined conditions\n",
    "combined_conditions = condition1 | condition2 | condition3\n",
    "acceptance_rate_combined = data_bar[combined_conditions]['Y'].mean()\n",
    "\n",
    "# Step 4: Display results\n",
    "print(f'Acceptance Rate (Condition 1 - Bars > 1 month, Not a kid, Not widowed): {acceptance_rate_condition1:.2f}')\n",
    "print(f'Acceptance Rate (Condition 2 - Bars > 1 month and Age < 30): {acceptance_rate_condition2:.2f}')\n",
    "print(f'Acceptance Rate (Condition 3 - Restaurants > 4 times a month and Income < 50K): {acceptance_rate_condition3:.2f}')\n",
    "print(f'Combined Acceptance Rate (All Conditions): {acceptance_rate_combined:.2f}')\n"
   ]
  },
  {
   "cell_type": "markdown",
   "metadata": {
    "id": "v3fL3QkO_qRK"
   },
   "source": [
    "7.  Based on these observations, what do you hypothesize about drivers who accepted the bar coupons?"
   ]
  },
  {
   "cell_type": "markdown",
   "metadata": {
    "id": "Y48naDFh_qRL"
   },
   "source": [
    "Drivers who engage in more social outings, particularly those who frequent bars more than once a month, tend to have a higher acceptance rate for bar coupons. This tendency is even more pronounced among drivers who are over 25, not accompanied by children, and have a moderate income. Drivers who fit these demographic and behavioral traits are likely more receptive to bar-related promotions, reflecting a potential alignment of social habits with promotional interests."
   ]
  },
  {
   "cell_type": "markdown",
   "metadata": {
    "id": "r4Hu1zOb_qRL"
   },
   "source": [
    "### Independent Investigation\n",
    "\n",
    "Using the bar coupon example as motivation, you are to explore one of the other coupon groups and try to determine the characteristics of passengers who accept the coupons.  "
   ]
  },
  {
   "cell_type": "code",
   "execution_count": 111,
   "metadata": {
    "id": "0c71cQhu_qRL"
   },
   "outputs": [
    {
     "name": "stdout",
     "output_type": "stream",
     "text": [
      "Number of rows with Coffee House coupons 3876\n"
     ]
    },
    {
     "data": {
      "text/html": [
       "<div>\n",
       "<style scoped>\n",
       "    .dataframe tbody tr th:only-of-type {\n",
       "        vertical-align: middle;\n",
       "    }\n",
       "\n",
       "    .dataframe tbody tr th {\n",
       "        vertical-align: top;\n",
       "    }\n",
       "\n",
       "    .dataframe thead th {\n",
       "        text-align: right;\n",
       "    }\n",
       "</style>\n",
       "<table border=\"1\" class=\"dataframe\">\n",
       "  <thead>\n",
       "    <tr style=\"text-align: right;\">\n",
       "      <th></th>\n",
       "      <th>destination</th>\n",
       "      <th>passanger</th>\n",
       "      <th>weather</th>\n",
       "      <th>temperature</th>\n",
       "      <th>time</th>\n",
       "      <th>coupon</th>\n",
       "      <th>expiration</th>\n",
       "      <th>gender</th>\n",
       "      <th>age</th>\n",
       "      <th>maritalStatus</th>\n",
       "      <th>...</th>\n",
       "      <th>CoffeeHouse</th>\n",
       "      <th>CarryAway</th>\n",
       "      <th>RestaurantLessThan20</th>\n",
       "      <th>Restaurant20To50</th>\n",
       "      <th>toCoupon_GEQ5min</th>\n",
       "      <th>toCoupon_GEQ15min</th>\n",
       "      <th>toCoupon_GEQ25min</th>\n",
       "      <th>direction_same</th>\n",
       "      <th>direction_opp</th>\n",
       "      <th>Y</th>\n",
       "    </tr>\n",
       "  </thead>\n",
       "  <tbody>\n",
       "    <tr>\n",
       "      <th>23</th>\n",
       "      <td>No Urgent Place</td>\n",
       "      <td>Friend(s)</td>\n",
       "      <td>Sunny</td>\n",
       "      <td>80</td>\n",
       "      <td>10AM</td>\n",
       "      <td>Coffee House</td>\n",
       "      <td>2h</td>\n",
       "      <td>Male</td>\n",
       "      <td>21</td>\n",
       "      <td>Single</td>\n",
       "      <td>...</td>\n",
       "      <td>less1</td>\n",
       "      <td>4~8</td>\n",
       "      <td>4~8</td>\n",
       "      <td>less1</td>\n",
       "      <td>1</td>\n",
       "      <td>0</td>\n",
       "      <td>0</td>\n",
       "      <td>0</td>\n",
       "      <td>1</td>\n",
       "      <td>0</td>\n",
       "    </tr>\n",
       "    <tr>\n",
       "      <th>26</th>\n",
       "      <td>No Urgent Place</td>\n",
       "      <td>Friend(s)</td>\n",
       "      <td>Sunny</td>\n",
       "      <td>80</td>\n",
       "      <td>2PM</td>\n",
       "      <td>Coffee House</td>\n",
       "      <td>1d</td>\n",
       "      <td>Male</td>\n",
       "      <td>21</td>\n",
       "      <td>Single</td>\n",
       "      <td>...</td>\n",
       "      <td>less1</td>\n",
       "      <td>4~8</td>\n",
       "      <td>4~8</td>\n",
       "      <td>less1</td>\n",
       "      <td>1</td>\n",
       "      <td>0</td>\n",
       "      <td>0</td>\n",
       "      <td>0</td>\n",
       "      <td>1</td>\n",
       "      <td>0</td>\n",
       "    </tr>\n",
       "    <tr>\n",
       "      <th>27</th>\n",
       "      <td>No Urgent Place</td>\n",
       "      <td>Friend(s)</td>\n",
       "      <td>Sunny</td>\n",
       "      <td>80</td>\n",
       "      <td>2PM</td>\n",
       "      <td>Coffee House</td>\n",
       "      <td>2h</td>\n",
       "      <td>Male</td>\n",
       "      <td>21</td>\n",
       "      <td>Single</td>\n",
       "      <td>...</td>\n",
       "      <td>less1</td>\n",
       "      <td>4~8</td>\n",
       "      <td>4~8</td>\n",
       "      <td>less1</td>\n",
       "      <td>1</td>\n",
       "      <td>1</td>\n",
       "      <td>0</td>\n",
       "      <td>0</td>\n",
       "      <td>1</td>\n",
       "      <td>0</td>\n",
       "    </tr>\n",
       "    <tr>\n",
       "      <th>28</th>\n",
       "      <td>No Urgent Place</td>\n",
       "      <td>Friend(s)</td>\n",
       "      <td>Sunny</td>\n",
       "      <td>80</td>\n",
       "      <td>2PM</td>\n",
       "      <td>Coffee House</td>\n",
       "      <td>1d</td>\n",
       "      <td>Male</td>\n",
       "      <td>21</td>\n",
       "      <td>Single</td>\n",
       "      <td>...</td>\n",
       "      <td>less1</td>\n",
       "      <td>4~8</td>\n",
       "      <td>4~8</td>\n",
       "      <td>less1</td>\n",
       "      <td>1</td>\n",
       "      <td>1</td>\n",
       "      <td>0</td>\n",
       "      <td>0</td>\n",
       "      <td>1</td>\n",
       "      <td>0</td>\n",
       "    </tr>\n",
       "    <tr>\n",
       "      <th>30</th>\n",
       "      <td>No Urgent Place</td>\n",
       "      <td>Friend(s)</td>\n",
       "      <td>Sunny</td>\n",
       "      <td>80</td>\n",
       "      <td>6PM</td>\n",
       "      <td>Coffee House</td>\n",
       "      <td>2h</td>\n",
       "      <td>Male</td>\n",
       "      <td>21</td>\n",
       "      <td>Single</td>\n",
       "      <td>...</td>\n",
       "      <td>less1</td>\n",
       "      <td>4~8</td>\n",
       "      <td>4~8</td>\n",
       "      <td>less1</td>\n",
       "      <td>1</td>\n",
       "      <td>0</td>\n",
       "      <td>0</td>\n",
       "      <td>0</td>\n",
       "      <td>1</td>\n",
       "      <td>0</td>\n",
       "    </tr>\n",
       "  </tbody>\n",
       "</table>\n",
       "<p>5 rows × 26 columns</p>\n",
       "</div>"
      ],
      "text/plain": [
       "        destination  passanger weather  temperature  time        coupon  \\\n",
       "23  No Urgent Place  Friend(s)   Sunny           80  10AM  Coffee House   \n",
       "26  No Urgent Place  Friend(s)   Sunny           80   2PM  Coffee House   \n",
       "27  No Urgent Place  Friend(s)   Sunny           80   2PM  Coffee House   \n",
       "28  No Urgent Place  Friend(s)   Sunny           80   2PM  Coffee House   \n",
       "30  No Urgent Place  Friend(s)   Sunny           80   6PM  Coffee House   \n",
       "\n",
       "   expiration gender age maritalStatus  ...  CoffeeHouse CarryAway  \\\n",
       "23         2h   Male  21        Single  ...        less1       4~8   \n",
       "26         1d   Male  21        Single  ...        less1       4~8   \n",
       "27         2h   Male  21        Single  ...        less1       4~8   \n",
       "28         1d   Male  21        Single  ...        less1       4~8   \n",
       "30         2h   Male  21        Single  ...        less1       4~8   \n",
       "\n",
       "   RestaurantLessThan20 Restaurant20To50 toCoupon_GEQ5min toCoupon_GEQ15min  \\\n",
       "23                  4~8            less1                1                 0   \n",
       "26                  4~8            less1                1                 0   \n",
       "27                  4~8            less1                1                 1   \n",
       "28                  4~8            less1                1                 1   \n",
       "30                  4~8            less1                1                 0   \n",
       "\n",
       "   toCoupon_GEQ25min direction_same direction_opp  Y  \n",
       "23                 0              0             1  0  \n",
       "26                 0              0             1  0  \n",
       "27                 0              0             1  0  \n",
       "28                 0              0             1  0  \n",
       "30                 0              0             1  0  \n",
       "\n",
       "[5 rows x 26 columns]"
      ]
     },
     "execution_count": 111,
     "metadata": {},
     "output_type": "execute_result"
    }
   ],
   "source": [
    "# New dataframe with only Coffee House coupons\n",
    "data_coffee = data_cleaned[data_cleaned['coupon']=='Coffee House']\n",
    "print(\"Number of rows with Coffee House coupons\", len(data_coffee))\n",
    "data_coffee.head()"
   ]
  },
  {
   "cell_type": "code",
   "execution_count": 113,
   "metadata": {
    "id": "QEsBkvIN_qRL"
   },
   "outputs": [
    {
     "name": "stdout",
     "output_type": "stream",
     "text": [
      "Proportional of observations that choose to accept the 'Coffee House' coupon 0.4966460268317853\n"
     ]
    }
   ],
   "source": [
    "# Proportion of observation to accept the Coffee House coupons\n",
    "\n",
    "proportion_accept_Coffee = data_coffee['Y'].sum()/len(data_coffee)  # or using .mean()\n",
    "print(\"Proportional of observations that choose to accept the 'Coffee House' coupon\",proportion_accept_Coffee)"
   ]
  },
  {
   "cell_type": "code",
   "execution_count": 115,
   "metadata": {
    "id": "fTC2WGE3_qRL"
   },
   "outputs": [
    {
     "name": "stdout",
     "output_type": "stream",
     "text": [
      "Number of Rows with 'unknown' value  44\n",
      "  CoffeeHouse         Y  acceptance_rate %\n",
      "0         1~3  0.647173          64.717349\n",
      "1         4~8  0.682446          68.244576\n",
      "2         gt8  0.657895          65.789474\n",
      "3       less1  0.482564          48.256362\n",
      "4       never  0.175223          17.522321\n"
     ]
    },
    {
     "data": {
      "image/png": "[encoded data removed]",
      "text/plain": [
       "<Figure size 800x500 with 1 Axes>"
      ]
     },
     "metadata": {},
     "output_type": "display_data"
    }
   ],
   "source": [
    "# Coffee Visit vs Coupon Acceptance\n",
    "\n",
    "data_coffee_frequency = data_coffee[['CoffeeHouse','Y']]\n",
    "\n",
    "print(\"Number of Rows with 'unknown' value \",data_coffee_frequency[data_coffee_frequency['CoffeeHouse'] == 'unknown'].shape[0])\n",
    "\n",
    "# Removing the rows with 'unknown' value\n",
    "data_coffee_frequency = data_coffee_frequency[data_coffee_frequency['CoffeeHouse'] != 'unknown']\n",
    "\n",
    "# Calculate acceptance rates for each group\n",
    "acceptance_rates = data_coffee_frequency.groupby('CoffeeHouse')['Y'].mean().reset_index()\n",
    "acceptance_rates['acceptance_rate %'] = acceptance_rates['Y'] * 100  # Convert to percentage\n",
    "\n",
    "# Print acceptance rates\n",
    "print(acceptance_rates)\n",
    "\n",
    "# Visualization\n",
    "plt.figure(figsize=(8, 5))\n",
    "plt.bar(acceptance_rates['CoffeeHouse'], acceptance_rates['acceptance_rate %'], color='skyblue')\n",
    "plt.title('Coupon Acceptance Rate by Coffee House Visit Frequency')\n",
    "plt.xlabel('Coffee House Visit Frequency Group')\n",
    "plt.ylabel('Acceptance Rate (%)')\n",
    "plt.ylim(0, 100)  # Set y-axis limits to percentage range\n",
    "plt.grid(axis='y', linestyle='--', alpha=0.7)\n",
    "plt.tight_layout()\n",
    "plt.show()"
   ]
  },
  {
   "cell_type": "code",
   "execution_count": 117,
   "metadata": {
    "id": "RrqUWn7d_qRL"
   },
   "outputs": [
    {
     "name": "stdout",
     "output_type": "stream",
     "text": [
      "Acceptance Rate for Drivers < 21 and Go to CoffeeHouse More than Once a Month: 0.75\n",
      "Acceptance Rate for All Other Drivers: 0.49\n",
      "Drivers who go to a Coffee House more than once a month and below 21 have a higher acceptance rate.\n"
     ]
    }
   ],
   "source": [
    "# Compare the acceptance of Coffee House coupon with age\n",
    "\n",
    "# Convert Age values\n",
    "def convert_age(age):\n",
    "    if age == 'below21':\n",
    "        return 19  # assign a value below 20\n",
    "    elif age == '50plus':\n",
    "        return 51  # assign a value above 50\n",
    "    else:\n",
    "        return int(age)  # convert to integer for numeric values\n",
    "        \n",
    "data_coffee_acceptance_age = data_coffee[['CoffeeHouse','age','Y']]\n",
    "\n",
    "# Removing the rows with 'unknown' value\n",
    "data_coffee_acceptance_age = data_coffee_acceptance_age[data_coffee_acceptance_age['CoffeeHouse'] != 'unknown']\n",
    "\n",
    "# Convert 'Bar' values to categories for comparison\n",
    "data_coffee_acceptance_age['CoffeeHouse'] = data_coffee_acceptance_age['CoffeeHouse'].map({'never': 0, 'less1': 1, '1~3': 2, '4~8': 3, 'gt8': 4})\n",
    "\n",
    "# Add numeric age column\n",
    "data_coffee_acceptance_age['Numeric_Age'] = data_coffee_acceptance_age['age'].apply(convert_age)\n",
    "\n",
    "# Create a filter for drivers who go to a bar more than once a month and are over 25\n",
    "group_1 = data_coffee_acceptance_age[(data_coffee_acceptance_age['CoffeeHouse'] > 1) & (data_coffee_acceptance_age['Numeric_Age'] < 21)]\n",
    "\n",
    "# Create a filter for all other drivers\n",
    "group_2 = data_coffee_acceptance_age[~((data_coffee_acceptance_age['CoffeeHouse'] > 1) & (data_coffee_acceptance_age['Numeric_Age'] < 21))]\n",
    "\n",
    "# Calculate acceptance rates\n",
    "acceptance_rate_group_1 = group_1['Y'].mean()\n",
    "acceptance_rate_group_2 = group_2['Y'].mean()\n",
    "\n",
    "# Output the results\n",
    "print(f\"Acceptance Rate for Drivers < 21 and Go to CoffeeHouse More than Once a Month: {acceptance_rate_group_1:.2f}\")\n",
    "print(f\"Acceptance Rate for All Other Drivers: {acceptance_rate_group_2:.2f}\")\n",
    "\n",
    "# Check for significant difference\n",
    "if acceptance_rate_group_1 > acceptance_rate_group_2:\n",
    "    print(\"Drivers who go to a Coffee House more than once a month and below 21 have a higher acceptance rate.\")\n",
    "else:\n",
    "    print(\"There is no significant difference in acceptance rates.\")\n",
    "\n"
   ]
  },
  {
   "cell_type": "code",
   "execution_count": 119,
   "metadata": {
    "id": "_oykf8YP_qRL"
   },
   "outputs": [
    {
     "data": {
      "image/png": "[encoded data removed]",
      "text/plain": [
       "<Figure size 1000x500 with 1 Axes>"
      ]
     },
     "metadata": {},
     "output_type": "display_data"
    },
    {
     "data": {
      "image/png": "[encoded data removed]",
      "text/plain": [
       "<Figure size 1000x500 with 1 Axes>"
      ]
     },
     "metadata": {},
     "output_type": "display_data"
    }
   ],
   "source": [
    "#\n",
    "\n",
    "# Filter data for drivers who go to a coffee house more than once a month\n",
    "df_coffee_more_than_once = data_coffee[data_coffee['CoffeeHouse'].isin(['1~3', '4~8', 'gt8'])]\n",
    "\n",
    "# Calculate acceptance rates based on temperature\n",
    "acceptance_rate_temp = (\n",
    "    df_coffee_more_than_once.groupby('temperature')['Y']\n",
    "    .mean()\n",
    "    .reset_index()\n",
    "    .rename(columns={'Y': 'Acceptance_Rate_Temperature'})\n",
    ")\n",
    "\n",
    "# Calculate acceptance rates based on marital status\n",
    "acceptance_rate_marital = (\n",
    "    df_coffee_more_than_once.groupby('maritalStatus')['Y']\n",
    "    .mean()\n",
    "    .reset_index()\n",
    "    .rename(columns={'Y': 'Acceptance_Rate_MaritalStatus'})\n",
    ")\n",
    "\n",
    "acceptance_rate_temp['Acceptance_Rate_Temperature'] *= 100\n",
    "acceptance_rate_marital['Acceptance_Rate_MaritalStatus'] *= 100\n",
    "\n",
    "# Plot acceptance rate by temperature\n",
    "plt.figure(figsize=(10, 5))\n",
    "sns.barplot(data=acceptance_rate_temp, x='temperature', y='Acceptance_Rate_Temperature')\n",
    "plt.title('Acceptance Rate by Temperature for Drivers Who Go to Coffee House More Than Once a Month')\n",
    "plt.xlabel('Temperature')\n",
    "plt.ylabel('Acceptance Rate')\n",
    "plt.show()\n",
    "\n",
    "# Plot acceptance rate by marital status\n",
    "plt.figure(figsize=(10, 5))\n",
    "sns.barplot(data=acceptance_rate_marital, x='maritalStatus', y='Acceptance_Rate_MaritalStatus')\n",
    "plt.title('Acceptance Rate by Marital Status for Drivers Who Go to Coffee House More Than Once a Month')\n",
    "plt.xlabel('Marital Status')\n",
    "plt.ylabel('Acceptance Rate')\n",
    "plt.show()\n",
    "\n",
    "# Display results\n",
    "#print(\"Acceptance Rate by Temperature for drivers who go to coffee house more than once a month:\")\n",
    "#print(acceptance_rate_temp)\n",
    "\n",
    "#print(\"\\nAcceptance Rate by Marital Status for drivers who go to coffee house more than once a month:\")\n",
    "#print(acceptance_rate_marital)"
   ]
  },
  {
   "cell_type": "markdown",
   "metadata": {},
   "source": [
    "### Observations and Hypothesis for Coffee House Coupons\n",
    "\n",
    "**Observations:**\n",
    "1. Acceptance rates for drivers who go to coffee houses more than once a month vary by temperature:\n",
    "   - At 30°F, the acceptance rate is **54.55%**.\n",
    "   - At 55°F, the acceptance rate increases to **58.50%**.\n",
    "   - At 80°F, the acceptance rate further increases to **71.51%**.\n",
    "\n",
    "2. Acceptance rates for drivers who go to coffee houses more than once a month vary by marital status:\n",
    "   - Divorced individuals have an acceptance rate of **60.00%**.\n",
    "   - Married partners have a rate of **66.18%**.\n",
    "   - Singles have a higher acceptance rate of **67.70%**.\n",
    "   - Unmarried partners have an acceptance rate of **62.31%**.\n",
    "\n",
    "3. Drivers under 21 who go to coffee houses more than once a month have an acceptance rate of **75.00%**, which is significantly higher than the acceptance rate of **49.00%** for all other drivers.\n",
    "\n",
    "4. Acceptance rates based on coffee house visits:\n",
    "   - 1-3 times: **64.72%**\n",
    "   - 4-8 times: **68.24%**\n",
    "   - Greater than 8 times: **65.79%**\n",
    "   - Less than once: **48.26%**\n",
    "   - Never: **17.52%**\n",
    "\n",
    "**Hypothesis on driver who accept Coffee House coupons:**\n",
    "1. There is a positive correlation between temperature and coupon acceptance rates among drivers who frequently visit coffee houses.\n",
    "2. Marital status influences acceptance rates, with single individuals showing the highest acceptance rates.\n",
    "3. Younger drivers (under 21) have a higher tendency to accept coupons compared to older drivers.\n",
    "4. Increased frequency of coffee house visits is associated with higher acceptance rates for coupons.\n"
   ]
  },
  {
   "cell_type": "code",
   "execution_count": null,
   "metadata": {},
   "outputs": [],
   "source": []
  },
  {
   "cell_type": "code",
   "execution_count": null,
   "metadata": {},
   "outputs": [],
   "source": []
  }
 ],
 "metadata": {
  "colab": {
   "provenance": []
  },
  "kernelspec": {
   "display_name": "Python 3 (ipykernel)",
   "language": "python",
   "name": "python3"
  },
  "language_info": {
   "codemirror_mode": {
    "name": "ipython",
    "version": 3
   },
   "file_extension": ".py",
   "mimetype": "text/x-python",
   "name": "python",
   "nbconvert_exporter": "python",
   "pygments_lexer": "ipython3",
   "version": "3.12.4"
  }
 },
 "nbformat": 4,
 "nbformat_minor": 4
}
